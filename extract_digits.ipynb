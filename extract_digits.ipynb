{
 "cells": [
  {
   "cell_type": "code",
   "execution_count": 67,
   "metadata": {},
   "outputs": [],
   "source": [
    "import matplotlib.pyplot as plt\n",
    "import matplotlib.image as mpimg\n",
    "import os\n",
    "import numpy as np\n",
    "from skimage.transform import resize\n",
    "import time"
   ]
  },
  {
   "cell_type": "code",
   "execution_count": 4,
   "metadata": {},
   "outputs": [],
   "source": [
    "if(not os.path.exists('./test_digits')):\n",
    "    os.system('mkdir test_digits')"
   ]
  },
  {
   "cell_type": "code",
   "execution_count": 50,
   "metadata": {},
   "outputs": [],
   "source": [
    "test_image = mpimg.imread('digits_filled.jpg')\n",
    "test_image.shape\n",
    "test_image = (np.sum(test_image, axis = 2)/3.)/255.\n",
    "test_image.shape\n",
    "\n",
    "test_image = 1. - test_image"
   ]
  },
  {
   "cell_type": "code",
   "execution_count": 75,
   "metadata": {},
   "outputs": [],
   "source": [
    "for j in range(5):\n",
    "    for i in range(10):\n",
    "        x_mid = 280*j + 140\n",
    "        y_mid = 280*i + 140\n",
    "        digit = test_image[x_mid-126:x_mid+126, y_mid-126:y_mid+126]\n",
    "        #digit.shape\n",
    "        template = np.zeros((280, 280))\n",
    "        template[14:266, 14:266] = digit\n",
    "        template = resize(template, (template.shape[0]/10, template.shape[1]/10), anti_aliasing=True)\n",
    "            \n",
    "        # Need a unique filename for each of the digits, but want to be able to identify the \n",
    "        # digit from the file name\n",
    "        file_name = str(i) + \"_\" + str(int(time.time()))+str(i)+str(j) + '.jpg'\n",
    "        mpimg.imsave('./test_digits/'+file_name, blank_image)"
   ]
  },
  {
   "cell_type": "code",
   "execution_count": 76,
   "metadata": {},
   "outputs": [
    {
     "data": {
      "text/plain": [
       "<matplotlib.image.AxesImage at 0x7f03b3bf8320>"
      ]
     },
     "execution_count": 76,
     "metadata": {},
     "output_type": "execute_result"
    },
    {
     "data": {
      "image/png": "[encoded data removed]",
      "text/plain": [
       "<Figure size 432x288 with 1 Axes>"
      ]
     },
     "metadata": {
      "needs_background": "light"
     },
     "output_type": "display_data"
    }
   ],
   "source": [
    "plt.imshow(template, cmap = 'binary')"
   ]
  }
 ],
 "metadata": {
  "kernelspec": {
   "display_name": "Python 3",
   "language": "python",
   "name": "python3"
  },
  "language_info": {
   "codemirror_mode": {
    "name": "ipython",
    "version": 3
   },
   "file_extension": ".py",
   "mimetype": "text/x-python",
   "name": "python",
   "nbconvert_exporter": "python",
   "pygments_lexer": "ipython3",
   "version": "3.7.1"
  }
 },
 "nbformat": 4,
 "nbformat_minor": 2
}
