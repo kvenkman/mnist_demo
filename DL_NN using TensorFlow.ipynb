{
 "cells": [
  {
   "cell_type": "markdown",
   "metadata": {},
   "source": [
    "### Doing the MNIST example, but using Tensor Flow"
   ]
  },
  {
   "cell_type": "code",
   "execution_count": 18,
   "metadata": {},
   "outputs": [],
   "source": [
    "from tensorflow import keras\n",
    "import tensorflow as tf\n",
    "import matplotlib.pyplot as plt\n",
    "import glob\n",
    "import os\n",
    "import matplotlib.image as mpimg\n",
    "import numpy as np"
   ]
  },
  {
   "cell_type": "code",
   "execution_count": 19,
   "metadata": {},
   "outputs": [
    {
     "name": "stdout",
     "output_type": "stream",
     "text": [
      "1.13.1\n"
     ]
    }
   ],
   "source": [
    "print(tf.__version__)"
   ]
  },
  {
   "cell_type": "code",
   "execution_count": 20,
   "metadata": {},
   "outputs": [],
   "source": [
    "mnist = keras.datasets.mnist"
   ]
  },
  {
   "cell_type": "code",
   "execution_count": 21,
   "metadata": {},
   "outputs": [],
   "source": [
    "(train_images, train_labels), (test_images, test_labels) = mnist.load_data() "
   ]
  },
  {
   "cell_type": "code",
   "execution_count": 22,
   "metadata": {},
   "outputs": [
    {
     "data": {
      "text/plain": [
       "(60000, 28, 28)"
      ]
     },
     "execution_count": 22,
     "metadata": {},
     "output_type": "execute_result"
    }
   ],
   "source": [
    "train_images.shape"
   ]
  },
  {
   "cell_type": "code",
   "execution_count": 23,
   "metadata": {},
   "outputs": [
    {
     "data": {
      "text/plain": [
       "numpy.ndarray"
      ]
     },
     "execution_count": 23,
     "metadata": {},
     "output_type": "execute_result"
    }
   ],
   "source": [
    "type(test_images)"
   ]
  },
  {
   "cell_type": "code",
   "execution_count": 24,
   "metadata": {},
   "outputs": [
    {
     "data": {
      "text/plain": [
       "([], <a list of 0 Text yticklabel objects>)"
      ]
     },
     "execution_count": 24,
     "metadata": {},
     "output_type": "execute_result"
    },
    {
     "data": {
      "image/png": "[encoded data removed]",
      "text/plain": [
       "<Figure size 432x288 with 1 Axes>"
      ]
     },
     "metadata": {},
     "output_type": "display_data"
    }
   ],
   "source": [
    "plt.figure()\n",
    "plt.imshow(train_images[0], cmap = 'binary')\n",
    "plt.xticks([])\n",
    "plt.yticks([])"
   ]
  },
  {
   "cell_type": "code",
   "execution_count": 25,
   "metadata": {
    "scrolled": true
   },
   "outputs": [
    {
     "data": {
      "text/plain": [
       "(28, 28)"
      ]
     },
     "execution_count": 25,
     "metadata": {},
     "output_type": "execute_result"
    }
   ],
   "source": [
    "train_images[0].shape"
   ]
  },
  {
   "cell_type": "code",
   "execution_count": 26,
   "metadata": {},
   "outputs": [],
   "source": [
    "# Normalizing the data\n",
    "test_images = test_images/255.0\n",
    "train_images = train_images/255.0"
   ]
  },
  {
   "cell_type": "code",
   "execution_count": 27,
   "metadata": {},
   "outputs": [
    {
     "data": {
      "text/plain": [
       "(10000, 28, 28)"
      ]
     },
     "execution_count": 27,
     "metadata": {},
     "output_type": "execute_result"
    }
   ],
   "source": [
    "test_images.shape"
   ]
  },
  {
   "cell_type": "code",
   "execution_count": 28,
   "metadata": {},
   "outputs": [
    {
     "name": "stdout",
     "output_type": "stream",
     "text": [
      "WARNING:tensorflow:From /home/karthik/anaconda3/lib/python3.7/site-packages/tensorflow/python/ops/resource_variable_ops.py:435: colocate_with (from tensorflow.python.framework.ops) is deprecated and will be removed in a future version.\n",
      "Instructions for updating:\n",
      "Colocations handled automatically by placer.\n"
     ]
    }
   ],
   "source": [
    "# Define the model architecture\n",
    "model = keras.Sequential([\n",
    "    keras.layers.Flatten(input_shape = (28, 28)),\n",
    "    keras.layers.Dense(128, activation=tf.nn.relu),\n",
    "    keras.layers.Dense(10, activation=tf.nn.softmax)\n",
    "])"
   ]
  },
  {
   "cell_type": "code",
   "execution_count": 29,
   "metadata": {},
   "outputs": [],
   "source": [
    "# Compile the model\n",
    "model.compile(optimizer=tf.train.AdamOptimizer(), loss='sparse_categorical_crossentropy', metrics = ['accuracy'])"
   ]
  },
  {
   "cell_type": "code",
   "execution_count": 30,
   "metadata": {},
   "outputs": [
    {
     "name": "stdout",
     "output_type": "stream",
     "text": [
      "Epoch 1/30\n",
      "60000/60000 [==============================] - 5s 85us/sample - loss: 0.2635 - acc: 0.9247\n",
      "Epoch 2/30\n",
      "60000/60000 [==============================] - 4s 74us/sample - loss: 0.1157 - acc: 0.9653\n",
      "Epoch 3/30\n",
      "60000/60000 [==============================] - 5s 81us/sample - loss: 0.0797 - acc: 0.9764\n",
      "Epoch 4/30\n",
      "60000/60000 [==============================] - 4s 66us/sample - loss: 0.0599 - acc: 0.9819\n",
      "Epoch 5/30\n",
      "60000/60000 [==============================] - 5s 79us/sample - loss: 0.0461 - acc: 0.9856\n",
      "Epoch 6/30\n",
      "60000/60000 [==============================] - 5s 80us/sample - loss: 0.0363 - acc: 0.9888\n",
      "Epoch 7/30\n",
      "60000/60000 [==============================] - 5s 80us/sample - loss: 0.0286 - acc: 0.9912\n",
      "Epoch 8/30\n",
      "60000/60000 [==============================] - 5s 84us/sample - loss: 0.0244 - acc: 0.9922\n",
      "Epoch 9/30\n",
      "60000/60000 [==============================] - 5s 84us/sample - loss: 0.0188 - acc: 0.9943\n",
      "Epoch 10/30\n",
      "60000/60000 [==============================] - 5s 86us/sample - loss: 0.0163 - acc: 0.9949\n",
      "Epoch 11/30\n",
      "60000/60000 [==============================] - 5s 80us/sample - loss: 0.0142 - acc: 0.9956\n",
      "Epoch 12/30\n",
      "60000/60000 [==============================] - 6s 100us/sample - loss: 0.0129 - acc: 0.9959\n",
      "Epoch 13/30\n",
      "60000/60000 [==============================] - 5s 83us/sample - loss: 0.0094 - acc: 0.9969\n",
      "Epoch 14/30\n",
      "60000/60000 [==============================] - 5s 89us/sample - loss: 0.0085 - acc: 0.9977\n",
      "Epoch 15/30\n",
      "60000/60000 [==============================] - 5s 88us/sample - loss: 0.0071 - acc: 0.9979\n",
      "Epoch 16/30\n",
      "60000/60000 [==============================] - 5s 81us/sample - loss: 0.0089 - acc: 0.9970\n",
      "Epoch 17/30\n",
      "60000/60000 [==============================] - 5s 81us/sample - loss: 0.0064 - acc: 0.9979\n",
      "Epoch 18/30\n",
      "60000/60000 [==============================] - 4s 74us/sample - loss: 0.0076 - acc: 0.9974\n",
      "Epoch 19/30\n",
      "60000/60000 [==============================] - 5s 77us/sample - loss: 0.0049 - acc: 0.9985\n",
      "Epoch 20/30\n",
      "60000/60000 [==============================] - 7s 110us/sample - loss: 0.0055 - acc: 0.9983\n",
      "Epoch 21/30\n",
      "60000/60000 [==============================] - 5s 82us/sample - loss: 0.0049 - acc: 0.9983\n",
      "Epoch 22/30\n",
      "60000/60000 [==============================] - 5s 83us/sample - loss: 0.0056 - acc: 0.9982\n",
      "Epoch 23/30\n",
      "60000/60000 [==============================] - 7s 114us/sample - loss: 0.0041 - acc: 0.9985\n",
      "Epoch 24/30\n",
      "60000/60000 [==============================] - 5s 90us/sample - loss: 0.0047 - acc: 0.9984\n",
      "Epoch 25/30\n",
      "60000/60000 [==============================] - 5s 85us/sample - loss: 0.0048 - acc: 0.9984\n",
      "Epoch 26/30\n",
      "60000/60000 [==============================] - 5s 85us/sample - loss: 0.0038 - acc: 0.9988\n",
      "Epoch 27/30\n",
      "60000/60000 [==============================] - 5s 84us/sample - loss: 0.0049 - acc: 0.9985\n",
      "Epoch 28/30\n",
      "60000/60000 [==============================] - 5s 86us/sample - loss: 0.0041 - acc: 0.9987\n",
      "Epoch 29/30\n",
      "60000/60000 [==============================] - 5s 86us/sample - loss: 0.0037 - acc: 0.9988\n",
      "Epoch 30/30\n",
      "60000/60000 [==============================] - 5s 89us/sample - loss: 0.0036 - acc: 0.9988\n"
     ]
    },
    {
     "data": {
      "text/plain": [
       "<tensorflow.python.keras.callbacks.History at 0x7f26465f9198>"
      ]
     },
     "execution_count": 30,
     "metadata": {},
     "output_type": "execute_result"
    }
   ],
   "source": [
    "# Train the model\n",
    "model.fit(train_images, train_labels, epochs = 30)"
   ]
  },
  {
   "cell_type": "code",
   "execution_count": 31,
   "metadata": {},
   "outputs": [
    {
     "name": "stdout",
     "output_type": "stream",
     "text": [
      "10000/10000 [==============================] - 0s 49us/sample - loss: 0.1373 - acc: 0.9771\n"
     ]
    }
   ],
   "source": [
    "# Evaluate network performance on the test set\n",
    "test_loss, test_accuracy = model.evaluate(test_images, test_labels)"
   ]
  },
  {
   "cell_type": "code",
   "execution_count": 38,
   "metadata": {},
   "outputs": [
    {
     "data": {
      "text/plain": [
       "(10000, 28, 28)"
      ]
     },
     "execution_count": 38,
     "metadata": {},
     "output_type": "execute_result"
    }
   ],
   "source": [
    "test_images.shape"
   ]
  },
  {
   "cell_type": "markdown",
   "metadata": {},
   "source": [
    "### Now to test my own images with the network"
   ]
  },
  {
   "cell_type": "code",
   "execution_count": 109,
   "metadata": {},
   "outputs": [
    {
     "name": "stdout",
     "output_type": "stream",
     "text": [
      "\n",
      "\n",
      "     Actual label (Predicted label)\n"
     ]
    },
    {
     "data": {
      "image/png": "[encoded data removed]",
      "text/plain": [
       "<Figure size 432x288 with 10 Axes>"
      ]
     },
     "metadata": {},
     "output_type": "display_data"
    }
   ],
   "source": [
    "all_images = np.zeros((10, 28, 28))\n",
    "actual_labels = [8, 0, 7, 6, 3, 5, 2, 4, 1, 9]\n",
    "\n",
    "for i in range(n_examples):\n",
    "    img = mpimg.imread(files[i])\n",
    "    img = np.sum(img, axis=2)/3.\n",
    "    img = 1-img # So that black pixels are 'hot', and the background is white.\n",
    "    plt.subplot(1, n_examples, i+1)\n",
    "    predicted_label = np.argmax(model.predict(img.reshape(1, 28, 28)))\n",
    "    if(predicted_label == actual_labels[i]):\n",
    "        plt.imshow(img, cmap = 'Greens')        \n",
    "    else:\n",
    "        plt.imshow(img, cmap = 'Reds')\n",
    "    plt.xlabel(str(actual_labels[i]) + \" (\"+str(predicted_label)+\")\")\n",
    "    plt.xticks([])\n",
    "    plt.yticks([])\n",
    "    \n",
    "    \n",
    "    predicted_labels += str(predicted_label) + \" \"\n",
    "    #predicted_labels += str(np.argmax(net.feedforward(img.reshape(784, 1)))) + \" \"\n",
    "    #print(model.predict(img))\n",
    "\n",
    "print(\"\\n\\n     Actual label (Predicted label)\")"
   ]
  },
  {
   "cell_type": "markdown",
   "metadata": {},
   "source": [
    "### An example that shows how 'bad' scaling can affect the model prediction"
   ]
  },
  {
   "cell_type": "code",
   "execution_count": 104,
   "metadata": {
    "scrolled": true
   },
   "outputs": [
    {
     "name": "stdout",
     "output_type": "stream",
     "text": [
      "7\n"
     ]
    },
    {
     "data": {
      "image/png": "[encoded data removed]",
      "text/plain": [
       "<Figure size 432x288 with 2 Axes>"
      ]
     },
     "metadata": {
      "needs_background": "light"
     },
     "output_type": "display_data"
    }
   ],
   "source": [
    "i = 0\n",
    "img = mpimg.imread(files[i])\n",
    "# img = np.sum(img, axis=2)/3. # The right scaling\n",
    "img = (np.sum(img, axis=2)/3.)/255. # The wrong scaling\n",
    "img = 1. - img\n",
    "plt.imshow(img, cmap = 'binary')\n",
    "plt.colorbar()\n",
    "print(np.argmax(model.predict(img.reshape(1, 28, 28))))"
   ]
  }
 ],
 "metadata": {
  "kernelspec": {
   "display_name": "Python 3",
   "language": "python",
   "name": "python3"
  },
  "language_info": {
   "codemirror_mode": {
    "name": "ipython",
    "version": 3
   },
   "file_extension": ".py",
   "mimetype": "text/x-python",
   "name": "python",
   "nbconvert_exporter": "python",
   "pygments_lexer": "ipython3",
   "version": "3.7.1"
  }
 },
 "nbformat": 4,
 "nbformat_minor": 2
}
