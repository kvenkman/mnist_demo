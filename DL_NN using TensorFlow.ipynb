{
 "cells": [
  {
   "cell_type": "markdown",
   "metadata": {},
   "source": [
    "### Doing the MNIST example, but using Tensor Flow"
   ]
  },
  {
   "cell_type": "code",
   "execution_count": 28,
   "metadata": {},
   "outputs": [],
   "source": [
    "from tensorflow import keras\n",
    "import tensorflow as tf\n",
    "import matplotlib.pyplot as plt\n",
    "import glob\n",
    "import os\n",
    "import matplotlib.image as mpimg\n",
    "import numpy as np"
   ]
  },
  {
   "cell_type": "code",
   "execution_count": 3,
   "metadata": {},
   "outputs": [
    {
     "name": "stdout",
     "output_type": "stream",
     "text": [
      "1.13.1\n"
     ]
    }
   ],
   "source": [
    "print(tf.__version__)"
   ]
  },
  {
   "cell_type": "code",
   "execution_count": 8,
   "metadata": {},
   "outputs": [],
   "source": [
    "mnist = keras.datasets.mnist"
   ]
  },
  {
   "cell_type": "code",
   "execution_count": 9,
   "metadata": {},
   "outputs": [
    {
     "name": "stdout",
     "output_type": "stream",
     "text": [
      "Downloading data from https://storage.googleapis.com/tensorflow/tf-keras-datasets/mnist.npz\n",
      "11493376/11490434 [==============================] - 9s 1us/step\n"
     ]
    }
   ],
   "source": [
    "(train_images, train_labels), (test_images, test_labels) = mnist.load_data() "
   ]
  },
  {
   "cell_type": "code",
   "execution_count": 10,
   "metadata": {},
   "outputs": [
    {
     "data": {
      "text/plain": [
       "(60000, 28, 28)"
      ]
     },
     "execution_count": 10,
     "metadata": {},
     "output_type": "execute_result"
    }
   ],
   "source": [
    "train_images.shape"
   ]
  },
  {
   "cell_type": "code",
   "execution_count": 43,
   "metadata": {},
   "outputs": [
    {
     "data": {
      "text/plain": [
       "numpy.ndarray"
      ]
     },
     "execution_count": 43,
     "metadata": {},
     "output_type": "execute_result"
    }
   ],
   "source": [
    "type(test_images)"
   ]
  },
  {
   "cell_type": "code",
   "execution_count": 15,
   "metadata": {},
   "outputs": [
    {
     "data": {
      "text/plain": [
       "<matplotlib.colorbar.Colorbar at 0x7f1c51631748>"
      ]
     },
     "execution_count": 15,
     "metadata": {},
     "output_type": "execute_result"
    },
    {
     "data": {
      "image/png": "[encoded data removed]",
      "text/plain": [
       "<Figure size 432x288 with 2 Axes>"
      ]
     },
     "metadata": {
      "needs_background": "light"
     },
     "output_type": "display_data"
    }
   ],
   "source": [
    "plt.figure()\n",
    "plt.imshow(train_images[0], cmap = 'binary')\n",
    "plt.colorbar()"
   ]
  },
  {
   "cell_type": "code",
   "execution_count": 16,
   "metadata": {},
   "outputs": [],
   "source": [
    "# Normalizing the data\n",
    "test_images = test_images/255.0\n",
    "train_images = train_images/255.0"
   ]
  },
  {
   "cell_type": "code",
   "execution_count": 41,
   "metadata": {},
   "outputs": [
    {
     "data": {
      "text/plain": [
       "(10000, 28, 28)"
      ]
     },
     "execution_count": 41,
     "metadata": {},
     "output_type": "execute_result"
    }
   ],
   "source": [
    "test_images.shape"
   ]
  },
  {
   "cell_type": "code",
   "execution_count": 17,
   "metadata": {},
   "outputs": [
    {
     "name": "stdout",
     "output_type": "stream",
     "text": [
      "WARNING:tensorflow:From /home/karthik/anaconda3/lib/python3.7/site-packages/tensorflow/python/ops/resource_variable_ops.py:435: colocate_with (from tensorflow.python.framework.ops) is deprecated and will be removed in a future version.\n",
      "Instructions for updating:\n",
      "Colocations handled automatically by placer.\n"
     ]
    }
   ],
   "source": [
    "# Define the model architecture\n",
    "model = keras.Sequential([\n",
    "    keras.layers.Flatten(input_shape = (28, 28)),\n",
    "    keras.layers.Dense(128, activation=tf.nn.relu),\n",
    "    keras.layers.Dense(10, activation=tf.nn.softmax)\n",
    "])"
   ]
  },
  {
   "cell_type": "code",
   "execution_count": 18,
   "metadata": {},
   "outputs": [],
   "source": [
    "# Compile the model\n",
    "model.compile(optimizer=tf.train.AdamOptimizer(), loss='sparse_categorical_crossentropy', metrics = ['accuracy'])"
   ]
  },
  {
   "cell_type": "code",
   "execution_count": 19,
   "metadata": {},
   "outputs": [
    {
     "name": "stdout",
     "output_type": "stream",
     "text": [
      "Epoch 1/30\n",
      "60000/60000 [==============================] - 7s 109us/sample - loss: 0.2538 - acc: 0.9276\n",
      "Epoch 2/30\n",
      "60000/60000 [==============================] - 6s 97us/sample - loss: 0.1141 - acc: 0.9658\n",
      "Epoch 3/30\n",
      "60000/60000 [==============================] - 6s 99us/sample - loss: 0.0783 - acc: 0.9757\n",
      "Epoch 4/30\n",
      "60000/60000 [==============================] - 6s 98us/sample - loss: 0.0587 - acc: 0.9821\n",
      "Epoch 5/30\n",
      "60000/60000 [==============================] - 6s 99us/sample - loss: 0.0453 - acc: 0.9863\n",
      "Epoch 6/30\n",
      "60000/60000 [==============================] - 6s 99us/sample - loss: 0.0367 - acc: 0.9885\n",
      "Epoch 7/30\n",
      "60000/60000 [==============================] - 6s 103us/sample - loss: 0.0278 - acc: 0.9915\n",
      "Epoch 8/30\n",
      "60000/60000 [==============================] - 6s 101us/sample - loss: 0.0231 - acc: 0.9929\n",
      "Epoch 9/30\n",
      "60000/60000 [==============================] - 6s 100us/sample - loss: 0.0194 - acc: 0.9938\n",
      "Epoch 10/30\n",
      "60000/60000 [==============================] - 6s 103us/sample - loss: 0.0164 - acc: 0.9950\n",
      "Epoch 11/30\n",
      "60000/60000 [==============================] - 6s 101us/sample - loss: 0.0141 - acc: 0.9958\n",
      "Epoch 12/30\n",
      "60000/60000 [==============================] - 6s 101us/sample - loss: 0.0112 - acc: 0.9966\n",
      "Epoch 13/30\n",
      "60000/60000 [==============================] - 6s 105us/sample - loss: 0.0113 - acc: 0.9963\n",
      "Epoch 14/30\n",
      "60000/60000 [==============================] - 6s 103us/sample - loss: 0.0084 - acc: 0.9974\n",
      "Epoch 15/30\n",
      "60000/60000 [==============================] - 6s 102us/sample - loss: 0.0084 - acc: 0.9974\n",
      "Epoch 16/30\n",
      "60000/60000 [==============================] - 6s 102us/sample - loss: 0.0079 - acc: 0.9977\n",
      "Epoch 17/30\n",
      "60000/60000 [==============================] - 6s 101us/sample - loss: 0.0074 - acc: 0.9980\n",
      "Epoch 18/30\n",
      "60000/60000 [==============================] - 6s 103us/sample - loss: 0.0063 - acc: 0.9983\n",
      "Epoch 19/30\n",
      "60000/60000 [==============================] - 6s 105us/sample - loss: 0.0057 - acc: 0.9983\n",
      "Epoch 20/30\n",
      "60000/60000 [==============================] - 6s 105us/sample - loss: 0.0064 - acc: 0.9977\n",
      "Epoch 21/30\n",
      "60000/60000 [==============================] - 6s 102us/sample - loss: 0.0058 - acc: 0.9983\n",
      "Epoch 22/30\n",
      "60000/60000 [==============================] - 6s 103us/sample - loss: 0.0045 - acc: 0.9987\n",
      "Epoch 23/30\n",
      "60000/60000 [==============================] - 6s 105us/sample - loss: 0.0061 - acc: 0.9980\n",
      "Epoch 24/30\n",
      "60000/60000 [==============================] - 6s 103us/sample - loss: 0.0044 - acc: 0.9987\n",
      "Epoch 25/30\n",
      "60000/60000 [==============================] - 6s 102us/sample - loss: 0.0055 - acc: 0.9980\n",
      "Epoch 26/30\n",
      "60000/60000 [==============================] - 6s 104us/sample - loss: 0.0042 - acc: 0.9987\n",
      "Epoch 27/30\n",
      "60000/60000 [==============================] - 6s 107us/sample - loss: 0.0036 - acc: 0.9990\n",
      "Epoch 28/30\n",
      "60000/60000 [==============================] - 6s 106us/sample - loss: 0.0042 - acc: 0.9988\n",
      "Epoch 29/30\n",
      "60000/60000 [==============================] - 6s 104us/sample - loss: 0.0055 - acc: 0.9983\n",
      "Epoch 30/30\n",
      "60000/60000 [==============================] - 6s 108us/sample - loss: 0.0035 - acc: 0.9988\n"
     ]
    },
    {
     "data": {
      "text/plain": [
       "<tensorflow.python.keras.callbacks.History at 0x7f1c61221860>"
      ]
     },
     "execution_count": 19,
     "metadata": {},
     "output_type": "execute_result"
    }
   ],
   "source": [
    "# Train the model\n",
    "model.fit(train_images, train_labels, epochs = 30)"
   ]
  },
  {
   "cell_type": "code",
   "execution_count": 20,
   "metadata": {},
   "outputs": [
    {
     "name": "stdout",
     "output_type": "stream",
     "text": [
      "10000/10000 [==============================] - 1s 56us/sample - loss: 0.1469 - acc: 0.9733\n"
     ]
    }
   ],
   "source": [
    "# Evaluate network performance on the test set\n",
    "test_loss, test_accuracy = model.evaluate(test_images, test_labels)"
   ]
  },
  {
   "cell_type": "code",
   "execution_count": 45,
   "metadata": {},
   "outputs": [
    {
     "ename": "ValueError",
     "evalue": "all the input arrays must have same number of dimensions",
     "output_type": "error",
     "traceback": [
      "\u001b[0;31m---------------------------------------------------------------------------\u001b[0m",
      "\u001b[0;31mValueError\u001b[0m                                Traceback (most recent call last)",
      "\u001b[0;32m<ipython-input-45-83fcd28124ba>\u001b[0m in \u001b[0;36m<module>\u001b[0;34m\u001b[0m\n\u001b[1;32m     14\u001b[0m     \u001b[0mplt\u001b[0m\u001b[0;34m.\u001b[0m\u001b[0mimshow\u001b[0m\u001b[0;34m(\u001b[0m\u001b[0mimg\u001b[0m\u001b[0;34m,\u001b[0m \u001b[0mcmap\u001b[0m \u001b[0;34m=\u001b[0m \u001b[0;34m'binary'\u001b[0m\u001b[0;34m)\u001b[0m\u001b[0;34m\u001b[0m\u001b[0;34m\u001b[0m\u001b[0m\n\u001b[1;32m     15\u001b[0m     \u001b[0mplt\u001b[0m\u001b[0;34m.\u001b[0m\u001b[0maxis\u001b[0m\u001b[0;34m(\u001b[0m\u001b[0;34m'off'\u001b[0m\u001b[0;34m)\u001b[0m\u001b[0;34m\u001b[0m\u001b[0;34m\u001b[0m\u001b[0m\n\u001b[0;32m---> 16\u001b[0;31m     \u001b[0mnp\u001b[0m\u001b[0;34m.\u001b[0m\u001b[0mappend\u001b[0m\u001b[0;34m(\u001b[0m\u001b[0mall_images\u001b[0m\u001b[0;34m,\u001b[0m \u001b[0mimg\u001b[0m\u001b[0;34m,\u001b[0m \u001b[0maxis\u001b[0m \u001b[0;34m=\u001b[0m \u001b[0;36m0\u001b[0m\u001b[0;34m)\u001b[0m\u001b[0;34m\u001b[0m\u001b[0;34m\u001b[0m\u001b[0m\n\u001b[0m\u001b[1;32m     17\u001b[0m     \u001b[0mprint\u001b[0m\u001b[0;34m(\u001b[0m\u001b[0mimg\u001b[0m\u001b[0;34m.\u001b[0m\u001b[0mshape\u001b[0m\u001b[0;34m)\u001b[0m\u001b[0;34m\u001b[0m\u001b[0;34m\u001b[0m\u001b[0m\n\u001b[1;32m     18\u001b[0m     \u001b[0;31m#predicted_labels += str(model.predict(img)) + \" \"\u001b[0m\u001b[0;34m\u001b[0m\u001b[0;34m\u001b[0m\u001b[0;34m\u001b[0m\u001b[0m\n",
      "\u001b[0;32m~/anaconda3/lib/python3.7/site-packages/numpy/lib/function_base.py\u001b[0m in \u001b[0;36mappend\u001b[0;34m(arr, values, axis)\u001b[0m\n\u001b[1;32m   4526\u001b[0m         \u001b[0mvalues\u001b[0m \u001b[0;34m=\u001b[0m \u001b[0mravel\u001b[0m\u001b[0;34m(\u001b[0m\u001b[0mvalues\u001b[0m\u001b[0;34m)\u001b[0m\u001b[0;34m\u001b[0m\u001b[0;34m\u001b[0m\u001b[0m\n\u001b[1;32m   4527\u001b[0m         \u001b[0maxis\u001b[0m \u001b[0;34m=\u001b[0m \u001b[0marr\u001b[0m\u001b[0;34m.\u001b[0m\u001b[0mndim\u001b[0m\u001b[0;34m-\u001b[0m\u001b[0;36m1\u001b[0m\u001b[0;34m\u001b[0m\u001b[0;34m\u001b[0m\u001b[0m\n\u001b[0;32m-> 4528\u001b[0;31m     \u001b[0;32mreturn\u001b[0m \u001b[0mconcatenate\u001b[0m\u001b[0;34m(\u001b[0m\u001b[0;34m(\u001b[0m\u001b[0marr\u001b[0m\u001b[0;34m,\u001b[0m \u001b[0mvalues\u001b[0m\u001b[0;34m)\u001b[0m\u001b[0;34m,\u001b[0m \u001b[0maxis\u001b[0m\u001b[0;34m=\u001b[0m\u001b[0maxis\u001b[0m\u001b[0;34m)\u001b[0m\u001b[0;34m\u001b[0m\u001b[0;34m\u001b[0m\u001b[0m\n\u001b[0m",
      "\u001b[0;31mValueError\u001b[0m: all the input arrays must have same number of dimensions"
     ]
    },
    {
     "data": {
      "image/png": "[encoded data removed]",
      "text/plain": [
       "<Figure size 432x288 with 1 Axes>"
      ]
     },
     "metadata": {
      "needs_background": "light"
     },
     "output_type": "display_data"
    }
   ],
   "source": [
    "# Path where custom images to test can be added\n",
    "# Images have to be 28 pixels x 28 pixels\n",
    "filepath = 'my_images'\n",
    "files = glob.glob(os.path.join(filepath, '*'))\n",
    "predicted_labels = \"Predicted label: \"\n",
    "n_examples = len(files)\n",
    "all_images = np.array([])\n",
    "for i in range(n_examples):\n",
    "    img = mpimg.imread(files[i])\n",
    "    img = (np.sum(img, axis=2)/3.)/255. # Flattening the image to remove RGB information. Also normalize it.\n",
    "    #img = img/255.\n",
    "    img = 1-img # So that black pixels are 'hot', and the background is white.\n",
    "    plt.subplot(1, n_examples, i+1)\n",
    "    plt.imshow(img, cmap = 'binary')\n",
    "    plt.axis('off')\n",
    "    np.append(all_images, img, axis = 0)\n",
    "    print(img.shape)\n",
    "    #predicted_labels += str(model.predict(img)) + \" \"\n",
    "    #predicted_labels += str(np.argmax(net.feedforward(img.reshape(784, 1)))) + \" \"\n",
    "    #print(model.predict(img))\n",
    "    \n",
    "print(\"Predicted_labels\")#, #model.predict(all_images))"
   ]
  },
  {
   "cell_type": "code",
   "execution_count": 36,
   "metadata": {},
   "outputs": [
    {
     "name": "stdout",
     "output_type": "stream",
     "text": [
      "10\n"
     ]
    }
   ],
   "source": [
    "print(len(all_images))"
   ]
  },
  {
   "cell_type": "code",
   "execution_count": null,
   "metadata": {},
   "outputs": [],
   "source": []
  }
 ],
 "metadata": {
  "kernelspec": {
   "display_name": "Python 3",
   "language": "python",
   "name": "python3"
  },
  "language_info": {
   "codemirror_mode": {
    "name": "ipython",
    "version": 3
   },
   "file_extension": ".py",
   "mimetype": "text/x-python",
   "name": "python",
   "nbconvert_exporter": "python",
   "pygments_lexer": "ipython3",
   "version": "3.7.1"
  }
 },
 "nbformat": 4,
 "nbformat_minor": 2
}
