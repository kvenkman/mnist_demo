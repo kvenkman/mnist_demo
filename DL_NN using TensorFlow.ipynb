{
 "cells": [
  {
   "cell_type": "markdown",
   "metadata": {},
   "source": [
    "### Doing the MNIST example, but using Tensor Flow"
   ]
  },
  {
   "cell_type": "code",
   "execution_count": 110,
   "metadata": {},
   "outputs": [],
   "source": [
    "from tensorflow import keras\n",
    "import tensorflow as tf\n",
    "import matplotlib.pyplot as plt\n",
    "import glob\n",
    "import os\n",
    "import matplotlib.image as mpimg\n",
    "import numpy as np"
   ]
  },
  {
   "cell_type": "code",
   "execution_count": 111,
   "metadata": {},
   "outputs": [
    {
     "name": "stdout",
     "output_type": "stream",
     "text": [
      "1.13.1\n"
     ]
    }
   ],
   "source": [
    "print(tf.__version__)"
   ]
  },
  {
   "cell_type": "code",
   "execution_count": 112,
   "metadata": {},
   "outputs": [],
   "source": [
    "mnist = keras.datasets.mnist"
   ]
  },
  {
   "cell_type": "code",
   "execution_count": 113,
   "metadata": {},
   "outputs": [],
   "source": [
    "(train_images, train_labels), (test_images, test_labels) = mnist.load_data() "
   ]
  },
  {
   "cell_type": "code",
   "execution_count": 114,
   "metadata": {},
   "outputs": [
    {
     "data": {
      "text/plain": [
       "(60000, 28, 28)"
      ]
     },
     "execution_count": 114,
     "metadata": {},
     "output_type": "execute_result"
    }
   ],
   "source": [
    "train_images.shape"
   ]
  },
  {
   "cell_type": "code",
   "execution_count": 115,
   "metadata": {},
   "outputs": [
    {
     "data": {
      "text/plain": [
       "numpy.ndarray"
      ]
     },
     "execution_count": 115,
     "metadata": {},
     "output_type": "execute_result"
    }
   ],
   "source": [
    "type(test_images)"
   ]
  },
  {
   "cell_type": "code",
   "execution_count": 116,
   "metadata": {},
   "outputs": [
    {
     "data": {
      "text/plain": [
       "([], <a list of 0 Text yticklabel objects>)"
      ]
     },
     "execution_count": 116,
     "metadata": {},
     "output_type": "execute_result"
    },
    {
     "data": {
      "image/png": "[encoded data removed]",
      "text/plain": [
       "<Figure size 432x288 with 1 Axes>"
      ]
     },
     "metadata": {},
     "output_type": "display_data"
    }
   ],
   "source": [
    "plt.figure()\n",
    "plt.imshow(train_images[0], cmap = 'binary')\n",
    "plt.xticks([])\n",
    "plt.yticks([])"
   ]
  },
  {
   "cell_type": "code",
   "execution_count": 117,
   "metadata": {
    "scrolled": true
   },
   "outputs": [
    {
     "data": {
      "text/plain": [
       "(28, 28)"
      ]
     },
     "execution_count": 117,
     "metadata": {},
     "output_type": "execute_result"
    }
   ],
   "source": [
    "train_images[0].shape"
   ]
  },
  {
   "cell_type": "code",
   "execution_count": 118,
   "metadata": {},
   "outputs": [],
   "source": [
    "# Normalizing the data\n",
    "test_images = test_images/255.0\n",
    "train_images = train_images/255.0"
   ]
  },
  {
   "cell_type": "code",
   "execution_count": 119,
   "metadata": {},
   "outputs": [
    {
     "data": {
      "text/plain": [
       "(10000, 28, 28)"
      ]
     },
     "execution_count": 119,
     "metadata": {},
     "output_type": "execute_result"
    }
   ],
   "source": [
    "test_images.shape"
   ]
  },
  {
   "cell_type": "code",
   "execution_count": 120,
   "metadata": {},
   "outputs": [],
   "source": [
    "# Define the model architecture\n",
    "model = keras.Sequential([\n",
    "    keras.layers.Flatten(input_shape = (28, 28)),\n",
    "    keras.layers.Dense(128, activation=tf.nn.relu),\n",
    "    keras.layers.Dense(128, activation=tf.nn.relu),\n",
    "    keras.layers.Dense(10, activation=tf.nn.softmax)\n",
    "])"
   ]
  },
  {
   "cell_type": "code",
   "execution_count": 121,
   "metadata": {},
   "outputs": [],
   "source": [
    "# Compile the model\n",
    "model.compile(optimizer=tf.train.AdamOptimizer(), loss='sparse_categorical_crossentropy', metrics = ['accuracy'])"
   ]
  },
  {
   "cell_type": "code",
   "execution_count": 122,
   "metadata": {},
   "outputs": [
    {
     "name": "stdout",
     "output_type": "stream",
     "text": [
      "Epoch 1/20\n",
      "60000/60000 [==============================] - 8s 125us/sample - loss: 0.2257 - acc: 0.9329\n",
      "Epoch 2/20\n",
      "60000/60000 [==============================] - 7s 116us/sample - loss: 0.0982 - acc: 0.9700\n",
      "Epoch 3/20\n",
      "60000/60000 [==============================] - 6s 108us/sample - loss: 0.0667 - acc: 0.9797\n",
      "Epoch 4/20\n",
      "60000/60000 [==============================] - 7s 111us/sample - loss: 0.0510 - acc: 0.9833\n",
      "Epoch 5/20\n",
      "60000/60000 [==============================] - 7s 110us/sample - loss: 0.0408 - acc: 0.9868\n",
      "Epoch 6/20\n",
      "60000/60000 [==============================] - 7s 111us/sample - loss: 0.0344 - acc: 0.9892\n",
      "Epoch 7/20\n",
      "60000/60000 [==============================] - 7s 111us/sample - loss: 0.0290 - acc: 0.9903\n",
      "Epoch 8/20\n",
      "60000/60000 [==============================] - 7s 112us/sample - loss: 0.0245 - acc: 0.9917\n",
      "Epoch 9/20\n",
      "60000/60000 [==============================] - 7s 109us/sample - loss: 0.0222 - acc: 0.9925\n",
      "Epoch 10/20\n",
      "60000/60000 [==============================] - 7s 111us/sample - loss: 0.0183 - acc: 0.9943\n",
      "Epoch 11/20\n",
      "60000/60000 [==============================] - 7s 110us/sample - loss: 0.0177 - acc: 0.9939\n",
      "Epoch 12/20\n",
      "60000/60000 [==============================] - 7s 112us/sample - loss: 0.0160 - acc: 0.9947\n",
      "Epoch 13/20\n",
      "60000/60000 [==============================] - 6s 101us/sample - loss: 0.0162 - acc: 0.9944\n",
      "Epoch 14/20\n",
      "60000/60000 [==============================] - 6s 94us/sample - loss: 0.0118 - acc: 0.9958\n",
      "Epoch 15/20\n",
      "60000/60000 [==============================] - 6s 95us/sample - loss: 0.0134 - acc: 0.9958\n",
      "Epoch 16/20\n",
      "60000/60000 [==============================] - 6s 94us/sample - loss: 0.0143 - acc: 0.9953\n",
      "Epoch 17/20\n",
      "60000/60000 [==============================] - 6s 94us/sample - loss: 0.0098 - acc: 0.9969\n",
      "Epoch 18/20\n",
      "60000/60000 [==============================] - 6s 96us/sample - loss: 0.0119 - acc: 0.9965\n",
      "Epoch 19/20\n",
      "60000/60000 [==============================] - 6s 95us/sample - loss: 0.0106 - acc: 0.9966\n",
      "Epoch 20/20\n",
      "60000/60000 [==============================] - 6s 95us/sample - loss: 0.0079 - acc: 0.9976\n"
     ]
    },
    {
     "data": {
      "text/plain": [
       "<tensorflow.python.keras.callbacks.History at 0x7f264065ff98>"
      ]
     },
     "execution_count": 122,
     "metadata": {},
     "output_type": "execute_result"
    }
   ],
   "source": [
    "# Train the model\n",
    "model.fit(train_images, train_labels, epochs = 20)"
   ]
  },
  {
   "cell_type": "code",
   "execution_count": 123,
   "metadata": {},
   "outputs": [
    {
     "name": "stdout",
     "output_type": "stream",
     "text": [
      "10000/10000 [==============================] - 1s 53us/sample - loss: 0.1116 - acc: 0.9784\n"
     ]
    }
   ],
   "source": [
    "# Evaluate network performance on the test set\n",
    "test_loss, test_accuracy = model.evaluate(test_images, test_labels)"
   ]
  },
  {
   "cell_type": "code",
   "execution_count": 124,
   "metadata": {},
   "outputs": [
    {
     "data": {
      "text/plain": [
       "(10000, 28, 28)"
      ]
     },
     "execution_count": 124,
     "metadata": {},
     "output_type": "execute_result"
    }
   ],
   "source": [
    "test_images.shape"
   ]
  },
  {
   "cell_type": "markdown",
   "metadata": {},
   "source": [
    "### Now to test my own images with the network"
   ]
  },
  {
   "cell_type": "code",
   "execution_count": 127,
   "metadata": {},
   "outputs": [
    {
     "name": "stdout",
     "output_type": "stream",
     "text": [
      "\n",
      "\n",
      "     Actual label (Predicted label)\n"
     ]
    },
    {
     "data": {
      "image/png": "[encoded data removed]",
      "text/plain": [
       "<Figure size 432x288 with 10 Axes>"
      ]
     },
     "metadata": {},
     "output_type": "display_data"
    }
   ],
   "source": [
    "all_images = np.zeros((10, 28, 28))\n",
    "actual_labels = [8, 0, 7, 6, 3, 5, 2, 4, 1, 9]\n",
    "\n",
    "for i in range(n_examples):\n",
    "    img = mpimg.imread(files[i])\n",
    "    img = np.sum(img, axis=2)/3.\n",
    "    img = 1-img # So that black pixels are 'hot', and the background is white.\n",
    "    plt.subplot(1, n_examples, i+1)\n",
    "    predicted_label = np.argmax(model.predict(img.reshape(1, 28, 28)))\n",
    "    if(predicted_label == actual_labels[i]):\n",
    "        plt.imshow(img, cmap = 'Greens')\n",
    "        color = 'green'\n",
    "    else:\n",
    "        plt.imshow(img, cmap = 'Reds')\n",
    "        color = 'red'\n",
    "    plt.xlabel(str(actual_labels[i]) + \" (\"+str(predicted_label)+\")\", color = color)\n",
    "    plt.xticks([])\n",
    "    plt.yticks([])\n",
    "    \n",
    "    \n",
    "    predicted_labels += str(predicted_label) + \" \"\n",
    "    #predicted_labels += str(np.argmax(net.feedforward(img.reshape(784, 1)))) + \" \"\n",
    "    #print(model.predict(img))\n",
    "\n",
    "print(\"\\n\\n     Actual label (Predicted label)\")"
   ]
  },
  {
   "cell_type": "markdown",
   "metadata": {},
   "source": [
    "### An example that shows how 'bad' scaling can affect the model prediction\n",
    "The far left image shows a correctly scaled image, while the second image shows a badly scaled image\n",
    "The far right image shows the badly scaled image with adjusted colorbar, so that the digit is visible"
   ]
  },
  {
   "cell_type": "code",
   "execution_count": 140,
   "metadata": {
    "scrolled": true
   },
   "outputs": [
    {
     "name": "stdout",
     "output_type": "stream",
     "text": [
      "8 0\n"
     ]
    },
    {
     "data": {
      "image/png": "[encoded data removed]",
      "text/plain": [
       "<Figure size 648x216 with 6 Axes>"
      ]
     },
     "metadata": {
      "needs_background": "light"
     },
     "output_type": "display_data"
    }
   ],
   "source": [
    "i = 0\n",
    "img = mpimg.imread(files[i])\n",
    "\n",
    "img1 = np.sum(img, axis=2)/3. # The right scaling\n",
    "img2 = (np.sum(img, axis=2)/3.)/255. # The wrong scaling\n",
    "img1 = 1. - img1\n",
    "img2 = 1. - img2\n",
    "\n",
    "plt.figure(figsize=(9, 3))\n",
    "plt.subplot(1, 3, 1)\n",
    "plt.imshow(img1, cmap = 'binary', vmin = 0, vmax = 1)\n",
    "plt.colorbar(orientation = 'horizontal')\n",
    "\n",
    "plt.subplot(1, 3, 2)\n",
    "plt.imshow(img2, cmap = 'binary', vmin = 0, vmax = 1)\n",
    "plt.colorbar(orientation = 'horizontal')\n",
    "\n",
    "plt.subplot(1, 3, 3)\n",
    "plt.imshow(img2, cmap = 'binary')\n",
    "plt.colorbar(orientation = 'horizontal')\n",
    "\n",
    "print(np.argmax(model.predict(img1.reshape(1, 28, 28))), np.argmax(model.predict(img2.reshape(1, 28, 28))))"
   ]
  },
  {
   "cell_type": "code",
   "execution_count": null,
   "metadata": {},
   "outputs": [],
   "source": []
  }
 ],
 "metadata": {
  "kernelspec": {
   "display_name": "Python 3",
   "language": "python",
   "name": "python3"
  },
  "language_info": {
   "codemirror_mode": {
    "name": "ipython",
    "version": 3
   },
   "file_extension": ".py",
   "mimetype": "text/x-python",
   "name": "python",
   "nbconvert_exporter": "python",
   "pygments_lexer": "ipython3",
   "version": "3.7.1"
  }
 },
 "nbformat": 4,
 "nbformat_minor": 2
}
