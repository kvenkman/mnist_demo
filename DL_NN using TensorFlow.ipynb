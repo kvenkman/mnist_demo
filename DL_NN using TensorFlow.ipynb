{
 "cells": [
  {
   "cell_type": "markdown",
   "metadata": {},
   "source": [
    "### Doing the MNIST example, but using Tensor Flow"
   ]
  },
  {
   "cell_type": "code",
   "execution_count": 1,
   "metadata": {},
   "outputs": [
    {
     "name": "stderr",
     "output_type": "stream",
     "text": [
      "/home/karthik/Desktop/workspace/mnist_demo/lib/python3.7/site-packages/tensorflow/python/framework/dtypes.py:516: FutureWarning: Passing (type, 1) or '1type' as a synonym of type is deprecated; in a future version of numpy, it will be understood as (type, (1,)) / '(1,)type'.\n",
      "  _np_qint8 = np.dtype([(\"qint8\", np.int8, 1)])\n",
      "/home/karthik/Desktop/workspace/mnist_demo/lib/python3.7/site-packages/tensorflow/python/framework/dtypes.py:517: FutureWarning: Passing (type, 1) or '1type' as a synonym of type is deprecated; in a future version of numpy, it will be understood as (type, (1,)) / '(1,)type'.\n",
      "  _np_quint8 = np.dtype([(\"quint8\", np.uint8, 1)])\n",
      "/home/karthik/Desktop/workspace/mnist_demo/lib/python3.7/site-packages/tensorflow/python/framework/dtypes.py:518: FutureWarning: Passing (type, 1) or '1type' as a synonym of type is deprecated; in a future version of numpy, it will be understood as (type, (1,)) / '(1,)type'.\n",
      "  _np_qint16 = np.dtype([(\"qint16\", np.int16, 1)])\n",
      "/home/karthik/Desktop/workspace/mnist_demo/lib/python3.7/site-packages/tensorflow/python/framework/dtypes.py:519: FutureWarning: Passing (type, 1) or '1type' as a synonym of type is deprecated; in a future version of numpy, it will be understood as (type, (1,)) / '(1,)type'.\n",
      "  _np_quint16 = np.dtype([(\"quint16\", np.uint16, 1)])\n",
      "/home/karthik/Desktop/workspace/mnist_demo/lib/python3.7/site-packages/tensorflow/python/framework/dtypes.py:520: FutureWarning: Passing (type, 1) or '1type' as a synonym of type is deprecated; in a future version of numpy, it will be understood as (type, (1,)) / '(1,)type'.\n",
      "  _np_qint32 = np.dtype([(\"qint32\", np.int32, 1)])\n",
      "/home/karthik/Desktop/workspace/mnist_demo/lib/python3.7/site-packages/tensorflow/python/framework/dtypes.py:525: FutureWarning: Passing (type, 1) or '1type' as a synonym of type is deprecated; in a future version of numpy, it will be understood as (type, (1,)) / '(1,)type'.\n",
      "  np_resource = np.dtype([(\"resource\", np.ubyte, 1)])\n",
      "/home/karthik/Desktop/workspace/mnist_demo/lib/python3.7/site-packages/tensorboard/compat/tensorflow_stub/dtypes.py:541: FutureWarning: Passing (type, 1) or '1type' as a synonym of type is deprecated; in a future version of numpy, it will be understood as (type, (1,)) / '(1,)type'.\n",
      "  _np_qint8 = np.dtype([(\"qint8\", np.int8, 1)])\n",
      "/home/karthik/Desktop/workspace/mnist_demo/lib/python3.7/site-packages/tensorboard/compat/tensorflow_stub/dtypes.py:542: FutureWarning: Passing (type, 1) or '1type' as a synonym of type is deprecated; in a future version of numpy, it will be understood as (type, (1,)) / '(1,)type'.\n",
      "  _np_quint8 = np.dtype([(\"quint8\", np.uint8, 1)])\n",
      "/home/karthik/Desktop/workspace/mnist_demo/lib/python3.7/site-packages/tensorboard/compat/tensorflow_stub/dtypes.py:543: FutureWarning: Passing (type, 1) or '1type' as a synonym of type is deprecated; in a future version of numpy, it will be understood as (type, (1,)) / '(1,)type'.\n",
      "  _np_qint16 = np.dtype([(\"qint16\", np.int16, 1)])\n",
      "/home/karthik/Desktop/workspace/mnist_demo/lib/python3.7/site-packages/tensorboard/compat/tensorflow_stub/dtypes.py:544: FutureWarning: Passing (type, 1) or '1type' as a synonym of type is deprecated; in a future version of numpy, it will be understood as (type, (1,)) / '(1,)type'.\n",
      "  _np_quint16 = np.dtype([(\"quint16\", np.uint16, 1)])\n",
      "/home/karthik/Desktop/workspace/mnist_demo/lib/python3.7/site-packages/tensorboard/compat/tensorflow_stub/dtypes.py:545: FutureWarning: Passing (type, 1) or '1type' as a synonym of type is deprecated; in a future version of numpy, it will be understood as (type, (1,)) / '(1,)type'.\n",
      "  _np_qint32 = np.dtype([(\"qint32\", np.int32, 1)])\n",
      "/home/karthik/Desktop/workspace/mnist_demo/lib/python3.7/site-packages/tensorboard/compat/tensorflow_stub/dtypes.py:550: FutureWarning: Passing (type, 1) or '1type' as a synonym of type is deprecated; in a future version of numpy, it will be understood as (type, (1,)) / '(1,)type'.\n",
      "  np_resource = np.dtype([(\"resource\", np.ubyte, 1)])\n"
     ]
    }
   ],
   "source": [
    "from tensorflow import keras\n",
    "import tensorflow as tf\n",
    "import matplotlib.pyplot as plt\n",
    "import glob\n",
    "import os\n",
    "import matplotlib.image as mpimg\n",
    "import numpy as np"
   ]
  },
  {
   "cell_type": "code",
   "execution_count": 2,
   "metadata": {},
   "outputs": [
    {
     "name": "stdout",
     "output_type": "stream",
     "text": [
      "1.14.0\n"
     ]
    }
   ],
   "source": [
    "print(tf.__version__)"
   ]
  },
  {
   "cell_type": "code",
   "execution_count": 3,
   "metadata": {},
   "outputs": [],
   "source": [
    "mnist = keras.datasets.mnist"
   ]
  },
  {
   "cell_type": "code",
   "execution_count": 4,
   "metadata": {},
   "outputs": [],
   "source": [
    "(train_images, train_labels), (test_images, test_labels) = mnist.load_data() "
   ]
  },
  {
   "cell_type": "code",
   "execution_count": 5,
   "metadata": {},
   "outputs": [
    {
     "data": {
      "text/plain": [
       "(60000, 28, 28)"
      ]
     },
     "execution_count": 5,
     "metadata": {},
     "output_type": "execute_result"
    }
   ],
   "source": [
    "train_images.shape"
   ]
  },
  {
   "cell_type": "code",
   "execution_count": 6,
   "metadata": {},
   "outputs": [
    {
     "data": {
      "text/plain": [
       "numpy.ndarray"
      ]
     },
     "execution_count": 6,
     "metadata": {},
     "output_type": "execute_result"
    }
   ],
   "source": [
    "type(test_images)"
   ]
  },
  {
   "cell_type": "code",
   "execution_count": 7,
   "metadata": {},
   "outputs": [
    {
     "data": {
      "text/plain": [
       "<matplotlib.colorbar.Colorbar at 0x7efb6a586b70>"
      ]
     },
     "execution_count": 7,
     "metadata": {},
     "output_type": "execute_result"
    },
    {
     "data": {
      "image/png": "[encoded data removed]",
      "text/plain": [
       "<Figure size 432x288 with 2 Axes>"
      ]
     },
     "metadata": {
      "needs_background": "light"
     },
     "output_type": "display_data"
    }
   ],
   "source": [
    "plt.figure()\n",
    "plt.imshow(train_images[0], cmap = 'binary')\n",
    "plt.xticks([])\n",
    "plt.yticks([])\n",
    "plt.colorbar()"
   ]
  },
  {
   "cell_type": "code",
   "execution_count": 8,
   "metadata": {
    "scrolled": true
   },
   "outputs": [
    {
     "data": {
      "text/plain": [
       "(28, 28)"
      ]
     },
     "execution_count": 8,
     "metadata": {},
     "output_type": "execute_result"
    }
   ],
   "source": [
    "train_images[0].shape"
   ]
  },
  {
   "cell_type": "code",
   "execution_count": 9,
   "metadata": {},
   "outputs": [],
   "source": [
    "# Normalizing the data\n",
    "test_images = test_images/255.0\n",
    "train_images = train_images/255.0"
   ]
  },
  {
   "cell_type": "code",
   "execution_count": 10,
   "metadata": {},
   "outputs": [
    {
     "data": {
      "text/plain": [
       "(10000, 28, 28)"
      ]
     },
     "execution_count": 10,
     "metadata": {},
     "output_type": "execute_result"
    }
   ],
   "source": [
    "test_images.shape"
   ]
  },
  {
   "cell_type": "code",
   "execution_count": 11,
   "metadata": {},
   "outputs": [
    {
     "name": "stdout",
     "output_type": "stream",
     "text": [
      "WARNING:tensorflow:From /home/karthik/anaconda3/lib/python3.7/site-packages/tensorflow/python/ops/resource_variable_ops.py:435: colocate_with (from tensorflow.python.framework.ops) is deprecated and will be removed in a future version.\n",
      "Instructions for updating:\n",
      "Colocations handled automatically by placer.\n"
     ]
    }
   ],
   "source": [
    "# Define the model architecture\n",
    "model = keras.Sequential([\n",
    "    keras.layers.Flatten(input_shape = (28, 28)),\n",
    "    keras.layers.Dense(128, activation=tf.nn.relu),\n",
    "    keras.layers.Dense(128, activation=tf.nn.relu),\n",
    "    keras.layers.Dense(10, activation=tf.nn.softmax)\n",
    "])"
   ]
  },
  {
   "cell_type": "code",
   "execution_count": 12,
   "metadata": {},
   "outputs": [],
   "source": [
    "# Compile the model\n",
    "model.compile(optimizer=tf.keras.optimizers.Adam(), loss='sparse_categorical_crossentropy', metrics = ['accuracy'])"
   ]
  },
  {
   "cell_type": "code",
   "execution_count": 13,
   "metadata": {},
   "outputs": [
    {
     "name": "stdout",
     "output_type": "stream",
     "text": [
      "Epoch 1/20\n",
      "60000/60000 [==============================] - 8s 130us/sample - loss: 0.2305 - acc: 0.9318\n",
      "Epoch 2/20\n",
      "60000/60000 [==============================] - 8s 127us/sample - loss: 0.0979 - acc: 0.9692\n",
      "Epoch 3/20\n",
      "60000/60000 [==============================] - 7s 125us/sample - loss: 0.0659 - acc: 0.9791\n",
      "Epoch 4/20\n",
      "60000/60000 [==============================] - 7s 123us/sample - loss: 0.0526 - acc: 0.9833\n",
      "Epoch 5/20\n",
      "60000/60000 [==============================] - 9s 150us/sample - loss: 0.0405 - acc: 0.9868\n",
      "Epoch 6/20\n",
      "60000/60000 [==============================] - 11s 177us/sample - loss: 0.0319 - acc: 0.9888\n",
      "Epoch 7/20\n",
      "60000/60000 [==============================] - 10s 172us/sample - loss: 0.0259 - acc: 0.9914\n",
      "Epoch 8/20\n",
      "60000/60000 [==============================] - 11s 184us/sample - loss: 0.0241 - acc: 0.9918\n",
      "Epoch 9/20\n",
      "60000/60000 [==============================] - 12s 195us/sample - loss: 0.0216 - acc: 0.9928\n",
      "Epoch 10/20\n",
      "60000/60000 [==============================] - 12s 192us/sample - loss: 0.0178 - acc: 0.9942\n",
      "Epoch 11/20\n",
      "60000/60000 [==============================] - 10s 171us/sample - loss: 0.0164 - acc: 0.9947\n",
      "Epoch 12/20\n",
      "60000/60000 [==============================] - 9s 157us/sample - loss: 0.0182 - acc: 0.9938\n",
      "Epoch 13/20\n",
      "60000/60000 [==============================] - 9s 146us/sample - loss: 0.0142 - acc: 0.9953\n",
      "Epoch 14/20\n",
      "60000/60000 [==============================] - 9s 156us/sample - loss: 0.0131 - acc: 0.9956\n",
      "Epoch 15/20\n",
      "60000/60000 [==============================] - 9s 152us/sample - loss: 0.0133 - acc: 0.9959\n",
      "Epoch 16/20\n",
      "60000/60000 [==============================] - 9s 156us/sample - loss: 0.0126 - acc: 0.9958\n",
      "Epoch 17/20\n",
      "60000/60000 [==============================] - 10s 161us/sample - loss: 0.0110 - acc: 0.9962\n",
      "Epoch 18/20\n",
      "60000/60000 [==============================] - 9s 157us/sample - loss: 0.0121 - acc: 0.9963\n",
      "Epoch 19/20\n",
      "60000/60000 [==============================] - 10s 162us/sample - loss: 0.0094 - acc: 0.9968\n",
      "Epoch 20/20\n",
      "60000/60000 [==============================] - 9s 157us/sample - loss: 0.0086 - acc: 0.9973\n"
     ]
    },
    {
     "data": {
      "text/plain": [
       "<tensorflow.python.keras.callbacks.History at 0x7fd3da038320>"
      ]
     },
     "execution_count": 13,
     "metadata": {},
     "output_type": "execute_result"
    }
   ],
   "source": [
    "# Train the model\n",
    "model.fit(train_images, train_labels, epochs = 20)"
   ]
  },
  {
   "cell_type": "code",
   "execution_count": 14,
   "metadata": {},
   "outputs": [
    {
     "name": "stdout",
     "output_type": "stream",
     "text": [
      "10000/10000 [==============================] - 1s 79us/sample - loss: 0.1218 - acc: 0.9802\n"
     ]
    }
   ],
   "source": [
    "# Evaluate network performance on the test set\n",
    "test_loss, test_accuracy = model.evaluate(test_images, test_labels)"
   ]
  },
  {
   "cell_type": "code",
   "execution_count": 15,
   "metadata": {},
   "outputs": [
    {
     "data": {
      "text/plain": [
       "(10000, 28, 28)"
      ]
     },
     "execution_count": 15,
     "metadata": {},
     "output_type": "execute_result"
    }
   ],
   "source": [
    "test_images.shape"
   ]
  },
  {
   "cell_type": "markdown",
   "metadata": {},
   "source": [
    "### Now to test my own images with the network"
   ]
  },
  {
   "cell_type": "code",
   "execution_count": 16,
   "metadata": {},
   "outputs": [
    {
     "name": "stdout",
     "output_type": "stream",
     "text": [
      "1.0 0.0\n"
     ]
    }
   ],
   "source": [
    "test = test_images[0, :, :]\n",
    "print(np.max(test), np.min(test))"
   ]
  },
  {
   "cell_type": "code",
   "execution_count": 17,
   "metadata": {},
   "outputs": [
    {
     "name": "stdout",
     "output_type": "stream",
     "text": [
      "[0.         0.         0.         0.         0.         0.\n",
      " 0.87058824 0.99607843 0.99607843 0.99607843 0.99607843 0.94509804\n",
      " 0.77647059 0.77647059 0.77647059 0.77647059 0.77647059 0.77647059\n",
      " 0.77647059 0.77647059 0.66666667 0.20392157 0.         0.\n",
      " 0.         0.         0.         0.        ]\n"
     ]
    }
   ],
   "source": [
    "print(test[8, :])"
   ]
  },
  {
   "cell_type": "code",
   "execution_count": 18,
   "metadata": {
    "scrolled": false
   },
   "outputs": [
    {
     "data": {
      "text/plain": [
       "<matplotlib.image.AxesImage at 0x7fd3d7f65c50>"
      ]
     },
     "execution_count": 18,
     "metadata": {},
     "output_type": "execute_result"
    },
    {
     "data": {
      "image/png": "[encoded data removed]",
      "text/plain": [
       "<Figure size 432x288 with 1 Axes>"
      ]
     },
     "metadata": {
      "needs_background": "light"
     },
     "output_type": "display_data"
    }
   ],
   "source": [
    "plt.imshow(test)"
   ]
  },
  {
   "cell_type": "code",
   "execution_count": 38,
   "metadata": {},
   "outputs": [
    {
     "data": {
      "text/plain": [
       "[<matplotlib.lines.Line2D at 0x7fd3bc053940>]"
      ]
     },
     "execution_count": 38,
     "metadata": {},
     "output_type": "execute_result"
    },
    {
     "data": {
      "image/png": "[encoded data removed]",
      "text/plain": [
       "<Figure size 432x288 with 1 Axes>"
      ]
     },
     "metadata": {
      "needs_background": "light"
     },
     "output_type": "display_data"
    }
   ],
   "source": [
    "plt.plot(test.reshape(28*28, ))"
   ]
  },
  {
   "cell_type": "code",
   "execution_count": 42,
   "metadata": {},
   "outputs": [
    {
     "data": {
      "text/plain": [
       "[<matplotlib.lines.Line2D at 0x7fd3d7fa97b8>]"
      ]
     },
     "execution_count": 42,
     "metadata": {},
     "output_type": "execute_result"
    },
    {
     "data": {
      "image/png": "[encoded data removed]",
      "text/plain": [
       "<Figure size 432x288 with 1 Axes>"
      ]
     },
     "metadata": {
      "needs_background": "light"
     },
     "output_type": "display_data"
    }
   ],
   "source": [
    "img = mpimg.imread(\"test_digits/7_156524396074.png\")\n",
    "plt.plot(img.reshape(28*28, ))"
   ]
  },
  {
   "cell_type": "code",
   "execution_count": 36,
   "metadata": {},
   "outputs": [
    {
     "name": "stdout",
     "output_type": "stream",
     "text": [
      "\n",
      "\n",
      "     Actual label (Predicted label)\n"
     ]
    },
    {
     "data": {
      "image/png": "[encoded data removed]",
      "text/plain": [
       "<Figure size 432x288 with 10 Axes>"
      ]
     },
     "metadata": {},
     "output_type": "display_data"
    }
   ],
   "source": [
    "all_images = np.zeros((10, 28, 28))\n",
    "#actual_labels = [8, 0, 7, 6, 3, 5, 2, 4, 1, 9]\n",
    "actual_labels = []\n",
    "\n",
    "filepath = 'test_digits'\n",
    "files = glob.glob(os.path.join(filepath, '*'))\n",
    "n_examples = len(files)\n",
    "\n",
    "predicted_labels = \"\"\n",
    "\n",
    "for i in range(10):\n",
    "    img = mpimg.imread(files[i])\n",
    "    #img = np.sum(img, axis=2)/3.\n",
    "    #img = 1-img # So that black pixels are 'hot', and the background is white.\n",
    "    plt.subplot(1, 10, i+1)\n",
    "    predicted_label = np.argmax(model.predict(img.reshape(1, 28, 28)))\n",
    "    \n",
    "    actual_labels += [int(os.path.basename(files[i])[0])]\n",
    "    if(predicted_label == int(os.path.basename(files[i])[0])):\n",
    "        plt.imshow(img, cmap = 'Greens')\n",
    "        color = 'green'\n",
    "    else:\n",
    "        plt.imshow(img, cmap = 'Reds')\n",
    "        color = 'red'\n",
    "    plt.xlabel(str(actual_labels[i]) + \" (\"+str(predicted_label)+\")\", color = color)\n",
    "    plt.xticks([])\n",
    "    plt.yticks([])\n",
    "    \n",
    "    \n",
    "    predicted_labels += str(predicted_label) + \" \"\n",
    "    #predicted_labels += str(np.argmax(net.feedforward(img.reshape(784, 1)))) + \" \"\n",
    "    #print(model.predict(img))\n",
    "\n",
    "print(\"\\n\\n     Actual label (Predicted label)\")"
   ]
  },
  {
   "cell_type": "markdown",
   "metadata": {},
   "source": [
    "### An example that shows how 'bad' scaling can affect the model prediction\n",
    "The far left image shows a correctly scaled image, while the second image shows a badly scaled image\n",
    "The far right image shows the badly scaled image with adjusted colorbar, so that the digit is visible"
   ]
  },
  {
   "cell_type": "code",
   "execution_count": null,
   "metadata": {
    "scrolled": true
   },
   "outputs": [],
   "source": [
    "i = 0\n",
    "img = mpimg.imread(files[i])\n",
    "\n",
    "img1 = np.sum(img, axis=2)/3. # The right scaling\n",
    "img2 = (np.sum(img, axis=2)/3.)/255. # The wrong scaling\n",
    "img1 = 1. - img1\n",
    "img2 = 1. - img2\n",
    "\n",
    "plt.figure(figsize=(9, 3))\n",
    "plt.subplot(1, 3, 1)\n",
    "plt.imshow(img1, cmap = 'binary', vmin = 0, vmax = 1)\n",
    "plt.colorbar(orientation = 'horizontal', shrink=0.8, pad = 0.3)\n",
    "plt.xlabel(\"Prediction: \"+str(np.argmax(model.predict(img1.reshape(1, 28, 28)))), color = 'green')\n",
    "plt.title(\"Correctly scaled\")\n",
    "\n",
    "plt.subplot(1, 3, 2)\n",
    "plt.imshow(img2, cmap = 'binary', vmin = 0, vmax = 1)\n",
    "plt.colorbar(orientation = 'horizontal', shrink=0.8, pad = 0.3)\n",
    "plt.xlabel(\"Prediction: \"+str(np.argmax(model.predict(img2.reshape(1, 28, 28)))), color = 'red')\n",
    "plt.title(\"Incorrectly scaled\")\n",
    "\n",
    "plt.subplot(1, 3, 3)\n",
    "plt.imshow(img2, cmap = 'binary')\n",
    "plt.colorbar(orientation = 'horizontal', shrink=0.8, pad = 0.3)\n",
    "plt.xlabel(\"Prediction: \"+str(np.argmax(model.predict(img2.reshape(1, 28, 28)))), color = 'red')\n",
    "plt.title(\"Incorrectly scaled\")\n"
   ]
  },
  {
   "cell_type": "code",
   "execution_count": null,
   "metadata": {},
   "outputs": [],
   "source": [
    "model.save('./trained_models/digit_classifier.h5')"
   ]
  },
  {
   "cell_type": "markdown",
   "metadata": {},
   "source": [
    "### We conclude this notebook by saving the trained model in an HDF5 file. This will be loaded and used in another notebook with custom test data"
   ]
  }
 ],
 "metadata": {
  "kernelspec": {
   "display_name": "Python 3",
   "language": "python",
   "name": "python3"
  },
  "language_info": {
   "codemirror_mode": {
    "name": "ipython",
    "version": 3
   },
   "file_extension": ".py",
   "mimetype": "text/x-python",
   "name": "python",
   "nbconvert_exporter": "python",
   "pygments_lexer": "ipython3",
   "version": "3.7.3"
  }
 },
 "nbformat": 4,
 "nbformat_minor": 2
}
