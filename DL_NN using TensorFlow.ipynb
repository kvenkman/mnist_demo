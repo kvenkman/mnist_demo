{
 "cells": [
  {
   "cell_type": "markdown",
   "metadata": {},
   "source": [
    "### Doing the MNIST example, but using Tensor Flow"
   ]
  },
  {
   "cell_type": "code",
   "execution_count": 1,
   "metadata": {},
   "outputs": [],
   "source": [
    "from tensorflow import keras\n",
    "import tensorflow as tf\n",
    "import matplotlib.pyplot as plt\n",
    "import glob\n",
    "import os\n",
    "import matplotlib.image as mpimg\n",
    "import numpy as np"
   ]
  },
  {
   "cell_type": "code",
   "execution_count": 2,
   "metadata": {},
   "outputs": [
    {
     "name": "stdout",
     "output_type": "stream",
     "text": [
      "1.13.1\n"
     ]
    }
   ],
   "source": [
    "print(tf.__version__)"
   ]
  },
  {
   "cell_type": "code",
   "execution_count": 3,
   "metadata": {},
   "outputs": [],
   "source": [
    "mnist = keras.datasets.mnist"
   ]
  },
  {
   "cell_type": "code",
   "execution_count": 4,
   "metadata": {},
   "outputs": [],
   "source": [
    "(train_images, train_labels), (test_images, test_labels) = mnist.load_data() "
   ]
  },
  {
   "cell_type": "code",
   "execution_count": 5,
   "metadata": {},
   "outputs": [
    {
     "data": {
      "text/plain": [
       "(60000, 28, 28)"
      ]
     },
     "execution_count": 5,
     "metadata": {},
     "output_type": "execute_result"
    }
   ],
   "source": [
    "train_images.shape"
   ]
  },
  {
   "cell_type": "code",
   "execution_count": 6,
   "metadata": {},
   "outputs": [
    {
     "data": {
      "text/plain": [
       "numpy.ndarray"
      ]
     },
     "execution_count": 6,
     "metadata": {},
     "output_type": "execute_result"
    }
   ],
   "source": [
    "type(test_images)"
   ]
  },
  {
   "cell_type": "code",
   "execution_count": 7,
   "metadata": {},
   "outputs": [
    {
     "data": {
      "text/plain": [
       "([], <a list of 0 Text yticklabel objects>)"
      ]
     },
     "execution_count": 7,
     "metadata": {},
     "output_type": "execute_result"
    },
    {
     "data": {
      "image/png": "[encoded data removed]",
      "text/plain": [
       "<Figure size 432x288 with 1 Axes>"
      ]
     },
     "metadata": {},
     "output_type": "display_data"
    }
   ],
   "source": [
    "plt.figure()\n",
    "plt.imshow(train_images[0], cmap = 'binary')\n",
    "plt.xticks([])\n",
    "plt.yticks([])"
   ]
  },
  {
   "cell_type": "code",
   "execution_count": 8,
   "metadata": {
    "scrolled": true
   },
   "outputs": [
    {
     "data": {
      "text/plain": [
       "(28, 28)"
      ]
     },
     "execution_count": 8,
     "metadata": {},
     "output_type": "execute_result"
    }
   ],
   "source": [
    "train_images[0].shape"
   ]
  },
  {
   "cell_type": "code",
   "execution_count": 9,
   "metadata": {},
   "outputs": [],
   "source": [
    "# Normalizing the data\n",
    "test_images = test_images/255.0\n",
    "train_images = train_images/255.0"
   ]
  },
  {
   "cell_type": "code",
   "execution_count": 10,
   "metadata": {},
   "outputs": [
    {
     "data": {
      "text/plain": [
       "(10000, 28, 28)"
      ]
     },
     "execution_count": 10,
     "metadata": {},
     "output_type": "execute_result"
    }
   ],
   "source": [
    "test_images.shape"
   ]
  },
  {
   "cell_type": "code",
   "execution_count": 11,
   "metadata": {},
   "outputs": [
    {
     "name": "stdout",
     "output_type": "stream",
     "text": [
      "WARNING:tensorflow:From /home/karthik/anaconda3/lib/python3.7/site-packages/tensorflow/python/ops/resource_variable_ops.py:435: colocate_with (from tensorflow.python.framework.ops) is deprecated and will be removed in a future version.\n",
      "Instructions for updating:\n",
      "Colocations handled automatically by placer.\n"
     ]
    }
   ],
   "source": [
    "# Define the model architecture\n",
    "model = keras.Sequential([\n",
    "    keras.layers.Flatten(input_shape = (28, 28)),\n",
    "    keras.layers.Dense(128, activation=tf.nn.relu),\n",
    "    keras.layers.Dense(128, activation=tf.nn.relu),\n",
    "    keras.layers.Dense(10, activation=tf.nn.softmax)\n",
    "])"
   ]
  },
  {
   "cell_type": "code",
   "execution_count": 21,
   "metadata": {},
   "outputs": [],
   "source": [
    "# Compile the model\n",
    "model.compile(optimizer=tf.keras.optimizers.Adam(), loss='sparse_categorical_crossentropy', metrics = ['accuracy'])"
   ]
  },
  {
   "cell_type": "code",
   "execution_count": 22,
   "metadata": {},
   "outputs": [
    {
     "name": "stdout",
     "output_type": "stream",
     "text": [
      "Epoch 1/20\n",
      "60000/60000 [==============================] - 7s 120us/sample - loss: 0.0118 - acc: 0.9963\n",
      "Epoch 2/20\n",
      "60000/60000 [==============================] - 8s 131us/sample - loss: 0.0081 - acc: 0.9976\n",
      "Epoch 3/20\n",
      "60000/60000 [==============================] - 9s 155us/sample - loss: 0.0115 - acc: 0.9962\n",
      "Epoch 4/20\n",
      "60000/60000 [==============================] - 7s 124us/sample - loss: 0.0076 - acc: 0.9977\n",
      "Epoch 5/20\n",
      "60000/60000 [==============================] - 8s 125us/sample - loss: 0.0087 - acc: 0.9971\n",
      "Epoch 6/20\n",
      "60000/60000 [==============================] - 7s 119us/sample - loss: 0.0091 - acc: 0.9973\n",
      "Epoch 7/20\n",
      "60000/60000 [==============================] - 7s 119us/sample - loss: 0.0058 - acc: 0.9982\n",
      "Epoch 8/20\n",
      "60000/60000 [==============================] - 7s 120us/sample - loss: 0.0091 - acc: 0.9973\n",
      "Epoch 9/20\n",
      "60000/60000 [==============================] - 7s 119us/sample - loss: 0.0091 - acc: 0.9973\n",
      "Epoch 10/20\n",
      "60000/60000 [==============================] - 7s 119us/sample - loss: 0.0092 - acc: 0.9976\n",
      "Epoch 11/20\n",
      "60000/60000 [==============================] - 7s 121us/sample - loss: 0.0107 - acc: 0.9973\n",
      "Epoch 12/20\n",
      "60000/60000 [==============================] - 8s 130us/sample - loss: 0.0066 - acc: 0.9981\n",
      "Epoch 13/20\n",
      "60000/60000 [==============================] - 7s 124us/sample - loss: 0.0086 - acc: 0.9977\n",
      "Epoch 14/20\n",
      "60000/60000 [==============================] - 7s 118us/sample - loss: 0.0075 - acc: 0.9977\n",
      "Epoch 15/20\n",
      "60000/60000 [==============================] - 7s 118us/sample - loss: 0.0088 - acc: 0.9976\n",
      "Epoch 16/20\n",
      "60000/60000 [==============================] - 7s 119us/sample - loss: 0.0076 - acc: 0.9976\n",
      "Epoch 17/20\n",
      "60000/60000 [==============================] - 7s 120us/sample - loss: 0.0078 - acc: 0.9979\n",
      "Epoch 18/20\n",
      "60000/60000 [==============================] - 8s 137us/sample - loss: 0.0073 - acc: 0.9979\n",
      "Epoch 19/20\n",
      "60000/60000 [==============================] - 11s 191us/sample - loss: 0.0099 - acc: 0.9973\n",
      "Epoch 20/20\n",
      "60000/60000 [==============================] - 9s 148us/sample - loss: 0.0032 - acc: 0.9988\n"
     ]
    },
    {
     "data": {
      "text/plain": [
       "<tensorflow.python.keras.callbacks.History at 0x7f0d0c4f3a90>"
      ]
     },
     "execution_count": 22,
     "metadata": {},
     "output_type": "execute_result"
    }
   ],
   "source": [
    "# Train the model\n",
    "model.fit(train_images, train_labels, epochs = 20)"
   ]
  },
  {
   "cell_type": "code",
   "execution_count": 23,
   "metadata": {},
   "outputs": [
    {
     "name": "stdout",
     "output_type": "stream",
     "text": [
      "10000/10000 [==============================] - 1s 63us/sample - loss: 0.1647 - acc: 0.9807\n"
     ]
    }
   ],
   "source": [
    "# Evaluate network performance on the test set\n",
    "test_loss, test_accuracy = model.evaluate(test_images, test_labels)"
   ]
  },
  {
   "cell_type": "code",
   "execution_count": 24,
   "metadata": {},
   "outputs": [
    {
     "data": {
      "text/plain": [
       "(10000, 28, 28)"
      ]
     },
     "execution_count": 24,
     "metadata": {},
     "output_type": "execute_result"
    }
   ],
   "source": [
    "test_images.shape"
   ]
  },
  {
   "cell_type": "markdown",
   "metadata": {},
   "source": [
    "### Now to test my own images with the network"
   ]
  },
  {
   "cell_type": "code",
   "execution_count": 25,
   "metadata": {},
   "outputs": [
    {
     "name": "stdout",
     "output_type": "stream",
     "text": [
      "\n",
      "\n",
      "     Actual label (Predicted label)\n"
     ]
    },
    {
     "data": {
      "image/png": "[encoded data removed]",
      "text/plain": [
       "<Figure size 432x288 with 10 Axes>"
      ]
     },
     "metadata": {},
     "output_type": "display_data"
    }
   ],
   "source": [
    "all_images = np.zeros((10, 28, 28))\n",
    "actual_labels = [8, 0, 7, 6, 3, 5, 2, 4, 1, 9]\n",
    "\n",
    "filepath = 'my_images'\n",
    "files = glob.glob(os.path.join(filepath, '*'))\n",
    "n_examples = len(files)\n",
    "\n",
    "predicted_labels = \"\"\n",
    "\n",
    "for i in range(n_examples):\n",
    "    img = mpimg.imread(files[i])\n",
    "    img = np.sum(img, axis=2)/3.\n",
    "    img = 1-img # So that black pixels are 'hot', and the background is white.\n",
    "    plt.subplot(1, n_examples, i+1)\n",
    "    predicted_label = np.argmax(model.predict(img.reshape(1, 28, 28)))\n",
    "    if(predicted_label == actual_labels[i]):\n",
    "        plt.imshow(img, cmap = 'Greens')\n",
    "        color = 'green'\n",
    "    else:\n",
    "        plt.imshow(img, cmap = 'Reds')\n",
    "        color = 'red'\n",
    "    plt.xlabel(str(actual_labels[i]) + \" (\"+str(predicted_label)+\")\", color = color)\n",
    "    plt.xticks([])\n",
    "    plt.yticks([])\n",
    "    \n",
    "    \n",
    "    predicted_labels += str(predicted_label) + \" \"\n",
    "    #predicted_labels += str(np.argmax(net.feedforward(img.reshape(784, 1)))) + \" \"\n",
    "    #print(model.predict(img))\n",
    "\n",
    "print(\"\\n\\n     Actual label (Predicted label)\")"
   ]
  },
  {
   "cell_type": "markdown",
   "metadata": {},
   "source": [
    "### An example that shows how 'bad' scaling can affect the model prediction\n",
    "The far left image shows a correctly scaled image, while the second image shows a badly scaled image\n",
    "The far right image shows the badly scaled image with adjusted colorbar, so that the digit is visible"
   ]
  },
  {
   "cell_type": "code",
   "execution_count": 26,
   "metadata": {
    "scrolled": true
   },
   "outputs": [
    {
     "data": {
      "text/plain": [
       "Text(0.5, 1.0, 'Incorrectly scaled')"
      ]
     },
     "execution_count": 26,
     "metadata": {},
     "output_type": "execute_result"
    },
    {
     "data": {
      "image/png": "[encoded data removed]",
      "text/plain": [
       "<Figure size 648x216 with 6 Axes>"
      ]
     },
     "metadata": {
      "needs_background": "light"
     },
     "output_type": "display_data"
    }
   ],
   "source": [
    "i = 0\n",
    "img = mpimg.imread(files[i])\n",
    "\n",
    "img1 = np.sum(img, axis=2)/3. # The right scaling\n",
    "img2 = (np.sum(img, axis=2)/3.)/255. # The wrong scaling\n",
    "img1 = 1. - img1\n",
    "img2 = 1. - img2\n",
    "\n",
    "plt.figure(figsize=(9, 3))\n",
    "plt.subplot(1, 3, 1)\n",
    "plt.imshow(img1, cmap = 'binary', vmin = 0, vmax = 1)\n",
    "plt.colorbar(orientation = 'horizontal', shrink=0.8, pad = 0.3)\n",
    "plt.xlabel(\"Prediction: \"+str(np.argmax(model.predict(img1.reshape(1, 28, 28)))), color = 'green')\n",
    "plt.title(\"Correctly scaled\")\n",
    "\n",
    "plt.subplot(1, 3, 2)\n",
    "plt.imshow(img2, cmap = 'binary', vmin = 0, vmax = 1)\n",
    "plt.colorbar(orientation = 'horizontal', shrink=0.8, pad = 0.3)\n",
    "plt.xlabel(\"Prediction: \"+str(np.argmax(model.predict(img2.reshape(1, 28, 28)))), color = 'red')\n",
    "plt.title(\"Incorrectly scaled\")\n",
    "\n",
    "plt.subplot(1, 3, 3)\n",
    "plt.imshow(img2, cmap = 'binary')\n",
    "plt.colorbar(orientation = 'horizontal', shrink=0.8, pad = 0.3)\n",
    "plt.xlabel(\"Prediction: \"+str(np.argmax(model.predict(img2.reshape(1, 28, 28)))), color = 'red')\n",
    "plt.title(\"Incorrectly scaled\")\n"
   ]
  },
  {
   "cell_type": "code",
   "execution_count": 28,
   "metadata": {},
   "outputs": [],
   "source": [
    "model.save('digit_classifier.h5')"
   ]
  },
  {
   "cell_type": "markdown",
   "metadata": {},
   "source": [
    "### We conclude this notebook by saving the trained"
   ]
  }
 ],
 "metadata": {
  "kernelspec": {
   "display_name": "Python 3",
   "language": "python",
   "name": "python3"
  },
  "language_info": {
   "codemirror_mode": {
    "name": "ipython",
    "version": 3
   },
   "file_extension": ".py",
   "mimetype": "text/x-python",
   "name": "python",
   "nbconvert_exporter": "python",
   "pygments_lexer": "ipython3",
   "version": "3.7.1"
  }
 },
 "nbformat": 4,
 "nbformat_minor": 2
}
