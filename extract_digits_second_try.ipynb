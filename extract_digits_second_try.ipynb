{
 "cells": [
  {
   "cell_type": "code",
   "execution_count": 21,
   "metadata": {},
   "outputs": [],
   "source": [
    "import matplotlib.pyplot as plt\n",
    "import matplotlib.image as mpimg\n",
    "import os\n",
    "import glob\n",
    "import numpy as np\n",
    "import time"
   ]
  },
  {
   "cell_type": "code",
   "execution_count": 22,
   "metadata": {},
   "outputs": [],
   "source": [
    "if(not os.path.exists('./test_digits')):\n",
    "    os.system('mkdir test_digits')"
   ]
  },
  {
   "cell_type": "code",
   "execution_count": 23,
   "metadata": {},
   "outputs": [],
   "source": [
    "height = 28\n",
    "width = 28\n",
    "\n",
    "half_width = int(width/2)\n",
    "half_height = int(height/2)\n",
    "\n",
    "images = glob.glob(\"images/filled*.jpg\")\n",
    "\n",
    "for image in images:\n",
    "    test_image = mpimg.imread(image)\n",
    "    for j in range(5):\n",
    "        for i in range(10):\n",
    "            x_mid = width*j + half_width\n",
    "            y_mid = height*i + half_height\n",
    "            digit = test_image[x_mid-half_width:x_mid + half_width, y_mid-half_height:y_mid+half_height, :]\n",
    "\n",
    "            \n",
    "            # Need a unique filename for each of the digits, but want to be able to identify the \n",
    "            # digit from the file name\n",
    "            file_name = str(i) + \"_\" + str(int(time.time()))+str(i)+str(j) + '.png'\n",
    "            time.sleep(0.01) # To help with the filenaming\n",
    "\n",
    "            #imwrite('./test_digits/'+file_name, template)\n",
    "            mpimg.imsave('./test_digits/'+file_name, digit)"
   ]
  },
  {
   "cell_type": "code",
   "execution_count": 24,
   "metadata": {
    "scrolled": false
   },
   "outputs": [
    {
     "data": {
      "text/plain": [
       "<matplotlib.colorbar.Colorbar at 0x7efbaed91940>"
      ]
     },
     "execution_count": 24,
     "metadata": {},
     "output_type": "execute_result"
    },
    {
     "data": {
      "image/png": "[encoded data removed]",
      "text/plain": [
       "<Figure size 432x288 with 2 Axes>"
      ]
     },
     "metadata": {
      "needs_background": "light"
     },
     "output_type": "display_data"
    }
   ],
   "source": [
    "image = mpimg.imread('./test_digits/'+file_name)\n",
    "plt.imshow(image, cmap = 'binary')\n",
    "plt.colorbar()"
   ]
  },
  {
   "cell_type": "code",
   "execution_count": 25,
   "metadata": {},
   "outputs": [
    {
     "data": {
      "text/plain": [
       "(28, 28, 4)"
      ]
     },
     "execution_count": 25,
     "metadata": {},
     "output_type": "execute_result"
    }
   ],
   "source": [
    "image.shape"
   ]
  }
 ],
 "metadata": {
  "kernelspec": {
   "display_name": "Python 3",
   "language": "python",
   "name": "python3"
  },
  "language_info": {
   "codemirror_mode": {
    "name": "ipython",
    "version": 3
   },
   "file_extension": ".py",
   "mimetype": "text/x-python",
   "name": "python",
   "nbconvert_exporter": "python",
   "pygments_lexer": "ipython3",
   "version": "3.7.3"
  }
 },
 "nbformat": 4,
 "nbformat_minor": 2
}
